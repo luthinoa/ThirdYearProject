{
 "cells": [
  {
   "cell_type": "code",
   "execution_count": 31,
   "metadata": {
    "scrolled": true
   },
   "outputs": [
    {
     "data": {
      "text/html": [
       "<div>\n",
       "<style scoped>\n",
       "    .dataframe tbody tr th:only-of-type {\n",
       "        vertical-align: middle;\n",
       "    }\n",
       "\n",
       "    .dataframe tbody tr th {\n",
       "        vertical-align: top;\n",
       "    }\n",
       "\n",
       "    .dataframe thead th {\n",
       "        text-align: right;\n",
       "    }\n",
       "</style>\n",
       "<table border=\"1\" class=\"dataframe\">\n",
       "  <thead>\n",
       "    <tr style=\"text-align: right;\">\n",
       "      <th></th>\n",
       "      <th>id</th>\n",
       "      <th>sentiment</th>\n",
       "      <th>review</th>\n",
       "    </tr>\n",
       "  </thead>\n",
       "  <tbody>\n",
       "    <tr>\n",
       "      <th>0</th>\n",
       "      <td>5814_8</td>\n",
       "      <td>1</td>\n",
       "      <td>With all this stuff going down at the moment w...</td>\n",
       "    </tr>\n",
       "    <tr>\n",
       "      <th>1</th>\n",
       "      <td>2381_9</td>\n",
       "      <td>1</td>\n",
       "      <td>\\The Classic War of the Worlds\\\" by Timothy Hi...</td>\n",
       "    </tr>\n",
       "    <tr>\n",
       "      <th>2</th>\n",
       "      <td>7759_3</td>\n",
       "      <td>0</td>\n",
       "      <td>The film starts with a manager (Nicholas Bell)...</td>\n",
       "    </tr>\n",
       "    <tr>\n",
       "      <th>3</th>\n",
       "      <td>3630_4</td>\n",
       "      <td>0</td>\n",
       "      <td>It must be assumed that those who praised this...</td>\n",
       "    </tr>\n",
       "    <tr>\n",
       "      <th>4</th>\n",
       "      <td>9495_8</td>\n",
       "      <td>1</td>\n",
       "      <td>Superbly trashy and wondrously unpretentious 8...</td>\n",
       "    </tr>\n",
       "  </tbody>\n",
       "</table>\n",
       "</div>"
      ],
      "text/plain": [
       "       id  sentiment                                             review\n",
       "0  5814_8          1  With all this stuff going down at the moment w...\n",
       "1  2381_9          1  \\The Classic War of the Worlds\\\" by Timothy Hi...\n",
       "2  7759_3          0  The film starts with a manager (Nicholas Bell)...\n",
       "3  3630_4          0  It must be assumed that those who praised this...\n",
       "4  9495_8          1  Superbly trashy and wondrously unpretentious 8..."
      ]
     },
     "execution_count": 31,
     "metadata": {},
     "output_type": "execute_result"
    }
   ],
   "source": [
    "import pandas as pd\n",
    "df = pd.read_csv('/Users/noaluthi/Desktop/Lime_Experiment_data/labeledTrainData.tsv', sep='\\t')\n",
    "df.head()"
   ]
  },
  {
   "cell_type": "code",
   "execution_count": 32,
   "metadata": {},
   "outputs": [],
   "source": [
    "from sklearn.model_selection import train_test_split\n",
    "\n",
    "texts_train, texts_test, y_train, y_test = \\\n",
    "    train_test_split(df[\"review\"].values, df['sentiment'].values, random_state=42)"
   ]
  },
  {
   "cell_type": "code",
   "execution_count": 33,
   "metadata": {},
   "outputs": [],
   "source": [
    "vocab_size = 20000  # Max number of different word, i.e. model input dimension\n",
    "maxlen = 80  # Max number of words kept at the end of each text"
   ]
  },
  {
   "cell_type": "code",
   "execution_count": 34,
   "metadata": {},
   "outputs": [],
   "source": [
    "from keras.preprocessing.text import Tokenizer\n",
    "from keras.preprocessing.sequence import pad_sequences\n",
    "from sklearn.pipeline import TransformerMixin\n",
    "from sklearn.base import BaseEstimator\n",
    "\n",
    "class TextsToSequences(Tokenizer, BaseEstimator, TransformerMixin):\n",
    "    \"\"\" Sklearn transformer to convert texts to indices list \n",
    "    (e.g. [[\"the cute cat\"], [\"the dog\"]] -> [[1, 2, 3], [1, 4]])\"\"\"\n",
    "    def __init__(self,  **kwargs):\n",
    "        super().__init__(**kwargs)\n",
    "        \n",
    "    def fit(self, texts, y=None):\n",
    "        self.fit_on_texts(texts)\n",
    "        return self\n",
    "    \n",
    "    def transform(self, texts, y=None):\n",
    "        return np.array(self.texts_to_sequences(texts))\n",
    "        \n",
    "sequencer = TextsToSequences(num_words=vocab_size)"
   ]
  },
  {
   "cell_type": "code",
   "execution_count": 35,
   "metadata": {},
   "outputs": [],
   "source": [
    "class Padder(BaseEstimator, TransformerMixin):\n",
    "    \"\"\" Pad and crop uneven lists to the same length. \n",
    "    Only the end of lists longernthan the maxlen attribute are\n",
    "    kept, and lists shorter than maxlen are left-padded with zeros\n",
    "    \n",
    "    Attributes\n",
    "    ----------\n",
    "    maxlen: int\n",
    "        sizes of sequences after padding\n",
    "    max_index: int\n",
    "        maximum index known by the Padder, if a higher index is met during \n",
    "        transform it is transformed to a 0\n",
    "    \"\"\"\n",
    "    def __init__(self, maxlen=500):\n",
    "        self.maxlen = maxlen\n",
    "        self.max_index = None\n",
    "        \n",
    "    def fit(self, X, y=None):\n",
    "        self.max_index = pad_sequences(X, maxlen=self.maxlen).max()\n",
    "        return self\n",
    "    \n",
    "    def transform(self, X, y=None):\n",
    "        X = pad_sequences(X, maxlen=self.maxlen)\n",
    "        X[X > self.max_index] = 0\n",
    "        return X\n",
    "\n",
    "padder = Padder(maxlen)"
   ]
  },
  {
   "cell_type": "code",
   "execution_count": 36,
   "metadata": {
    "scrolled": true
   },
   "outputs": [
    {
     "name": "stdout",
     "output_type": "stream",
     "text": [
      "Epoch 1/2\n",
      "18750/18750 [==============================] - 72s 4ms/step - loss: 0.5398 - acc: 0.7240\n",
      "Epoch 2/2\n",
      "18750/18750 [==============================] - 66s 4ms/step - loss: 0.3632 - acc: 0.8445\n"
     ]
    }
   ],
   "source": [
    "from keras.models import Sequential\n",
    "from keras.layers import Dense, Embedding, Bidirectional, LSTM\n",
    "from keras.wrappers.scikit_learn import KerasClassifier\n",
    "from sklearn.pipeline import make_pipeline\n",
    "import numpy as np\n",
    "\n",
    "batch_size = 64\n",
    "max_features = vocab_size + 1\n",
    "\n",
    "def create_model(max_features):\n",
    "    \"\"\" Model creation function: returns a compiled Bidirectional LSTM\"\"\"\n",
    "    model = Sequential()\n",
    "    model.add(Embedding(max_features, 128))\n",
    "    model.add(Bidirectional(LSTM(128, dropout=0.5, recurrent_dropout=0.5)))\n",
    "    model.add(Dense(1, activation='sigmoid'))\n",
    "    model.compile('adam', 'binary_crossentropy', metrics=['accuracy'])\n",
    "    return model\n",
    "\n",
    "# Use Keras Scikit-learn wrapper to instantiate a LSTM with all methods\n",
    "# required by Scikit-learn for the last step of a Pipeline\n",
    "sklearn_lstm = KerasClassifier(build_fn=create_model, epochs=2, batch_size=batch_size, \n",
    "                               max_features=max_features, verbose=1)\n",
    "\n",
    "# Build the Scikit-learn pipeline\n",
    "pipeline = make_pipeline(sequencer, padder, sklearn_lstm)\n",
    "\n",
    "pipeline.fit(texts_train, y_train);"
   ]
  },
  {
   "cell_type": "code",
   "execution_count": 37,
   "metadata": {},
   "outputs": [
    {
     "name": "stdout",
     "output_type": "stream",
     "text": [
      "Computing predictions on test set...\n",
      "6250/6250 [==============================] - 6s 882us/step\n",
      "Test accuracy: 83.41 %\n"
     ]
    }
   ],
   "source": [
    "from sklearn import metrics\n",
    "print('Computing predictions on test set...')\n",
    "y_preds = pipeline.predict(texts_test)\n",
    "\n",
    "print('Test accuracy: {:.2f} %'.format(100*metrics.accuracy_score(y_preds, y_test)))"
   ]
  },
  {
   "cell_type": "code",
   "execution_count": 38,
   "metadata": {},
   "outputs": [
    {
     "name": "stdout",
     "output_type": "stream",
     "text": [
      "Sample 11: last 80 words (only part used by the model)\n",
      "--------------------------------------------------\n",
      "Who? What? Where? When? Why? The acting was terrible. Very robotic, rehearsed. I have seen all of the actors in this film in better roles. The screenplay was very elementary. By the end of this film, the story line was tied up. And Jeane Claude LaMarre should be tied up, too. So that he never attempts to write/direct another film.\n",
      "--------------------------------------------------\n",
      "1/1 [==============================] - 0s 12ms/step\n",
      "Probability(positive) = 0.24749817\n",
      "True class: negative\n"
     ]
    }
   ],
   "source": [
    "# We choose a sample from test set\n",
    "idx = 11\n",
    "text_sample = texts_test[idx]\n",
    "class_names = ['negative', 'positive']\n",
    "\n",
    "print('Sample {}: last 80 words (only part used by the model)'.format(idx))\n",
    "print('-'*50)\n",
    "print(\" \".join(text_sample.split()[-80:]))\n",
    "print('-'*50)\n",
    "print('Probability(positive) =', pipeline.predict_proba([text_sample])[0,1])\n",
    "print('True class: %s' % class_names[y_test[idx]])"
   ]
  },
  {
   "cell_type": "code",
   "execution_count": 41,
   "metadata": {},
   "outputs": [
    {
     "name": "stderr",
     "output_type": "stream",
     "text": [
      "/Library/Frameworks/Python.framework/Versions/3.6/lib/python3.6/re.py:212: FutureWarning: split() requires a non-empty pattern match.\n",
      "  return _compile(pattern, flags).split(string, maxsplit)\n"
     ]
    },
    {
     "name": "stdout",
     "output_type": "stream",
     "text": [
      "5000/5000 [==============================] - 4s 848us/step\n"
     ]
    },
    {
     "data": {
      "image/png": "[encoded data removed]",
      "text/plain": [
       "<Figure size 432x288 with 1 Axes>"
      ]
     },
     "metadata": {
      "needs_background": "light"
     },
     "output_type": "display_data"
    }
   ],
   "source": [
    "import seaborn as sns\n",
    "from matplotlib import *\n",
    "import matplotlib.pyplot as plt\n",
    "%matplotlib inline\n",
    "from collections import OrderedDict\n",
    "from lime.lime_text import LimeTextExplainer\n",
    "\n",
    "explainer = LimeTextExplainer(class_names=class_names)\n",
    "explanation = explainer.explain_instance(text_sample, pipeline.predict_proba, num_features=10)\n",
    "\n",
    "weights = OrderedDict(explanation.as_list())\n",
    "lime_weights = pd.DataFrame({'words': list(weights.keys()), 'weights': list(weights.values())})\n",
    "\n",
    "sns.barplot(x=\"words\", y=\"weights\", data=lime_weights);\n",
    "plt.xticks(rotation=45)\n",
    "plt.title('Sample {} features weights given by LIME'.format(idx));"
   ]
  },
  {
   "cell_type": "code",
   "execution_count": null,
   "metadata": {},
   "outputs": [],
   "source": []
  }
 ],
 "metadata": {
  "kernelspec": {
   "display_name": "Python 3",
   "language": "python",
   "name": "python3"
  },
  "language_info": {
   "codemirror_mode": {
    "name": "ipython",
    "version": 3
   },
   "file_extension": ".py",
   "mimetype": "text/x-python",
   "name": "python",
   "nbconvert_exporter": "python",
   "pygments_lexer": "ipython3",
   "version": "3.6.4"
  }
 },
 "nbformat": 4,
 "nbformat_minor": 2
}
